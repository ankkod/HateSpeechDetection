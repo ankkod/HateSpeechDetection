{
  "nbformat": 4,
  "nbformat_minor": 0,
  "metadata": {
    "colab": {
      "name": "HateSpeechClassifier.ipynb",
      "provenance": [],
      "collapsed_sections": [],
      "authorship_tag": "ABX9TyMrDQ1qwPYrnawkKAJgHsqN",
      "include_colab_link": true
    },
    "kernelspec": {
      "name": "python3",
      "display_name": "Python 3"
    },
    "language_info": {
      "name": "python"
    }
  },
  "cells": [
    {
      "cell_type": "markdown",
      "metadata": {
        "id": "view-in-github",
        "colab_type": "text"
      },
      "source": [
        "<a href=\"https://colab.research.google.com/github/ankkod/HateSpeechDetection/blob/main/HateSpeechClassifier.ipynb\" target=\"_parent\"><img src=\"https://colab.research.google.com/assets/colab-badge.svg\" alt=\"Open In Colab\"/></a>"
      ]
    },
    {
      "cell_type": "code",
      "metadata": {
        "id": "3OG2RW3a8lho",
        "colab": {
          "base_uri": "https://localhost:8080/"
        },
        "outputId": "752b13e7-efda-4ca4-bfc9-f018507af6d5"
      },
      "source": [
        "# Transformers installation\n",
        "! pip install transformers"
      ],
      "execution_count": null,
      "outputs": [
        {
          "output_type": "stream",
          "name": "stdout",
          "text": [
            "Collecting transformers\n",
            "  Downloading transformers-4.11.3-py3-none-any.whl (2.9 MB)\n",
            "\u001b[K     |████████████████████████████████| 2.9 MB 5.0 MB/s \n",
            "\u001b[?25hRequirement already satisfied: filelock in /usr/local/lib/python3.7/dist-packages (from transformers) (3.3.0)\n",
            "Requirement already satisfied: packaging>=20.0 in /usr/local/lib/python3.7/dist-packages (from transformers) (21.0)\n",
            "Requirement already satisfied: importlib-metadata in /usr/local/lib/python3.7/dist-packages (from transformers) (4.8.1)\n",
            "Requirement already satisfied: numpy>=1.17 in /usr/local/lib/python3.7/dist-packages (from transformers) (1.19.5)\n",
            "Requirement already satisfied: requests in /usr/local/lib/python3.7/dist-packages (from transformers) (2.23.0)\n",
            "Requirement already satisfied: regex!=2019.12.17 in /usr/local/lib/python3.7/dist-packages (from transformers) (2019.12.20)\n",
            "Collecting sacremoses\n",
            "  Downloading sacremoses-0.0.46-py3-none-any.whl (895 kB)\n",
            "\u001b[K     |████████████████████████████████| 895 kB 49.2 MB/s \n",
            "\u001b[?25hCollecting tokenizers<0.11,>=0.10.1\n",
            "  Downloading tokenizers-0.10.3-cp37-cp37m-manylinux_2_5_x86_64.manylinux1_x86_64.manylinux_2_12_x86_64.manylinux2010_x86_64.whl (3.3 MB)\n",
            "\u001b[K     |████████████████████████████████| 3.3 MB 43.8 MB/s \n",
            "\u001b[?25hCollecting huggingface-hub>=0.0.17\n",
            "  Downloading huggingface_hub-0.0.19-py3-none-any.whl (56 kB)\n",
            "\u001b[K     |████████████████████████████████| 56 kB 4.6 MB/s \n",
            "\u001b[?25hCollecting pyyaml>=5.1\n",
            "  Downloading PyYAML-6.0-cp37-cp37m-manylinux_2_5_x86_64.manylinux1_x86_64.manylinux_2_12_x86_64.manylinux2010_x86_64.whl (596 kB)\n",
            "\u001b[K     |████████████████████████████████| 596 kB 45.8 MB/s \n",
            "\u001b[?25hRequirement already satisfied: tqdm>=4.27 in /usr/local/lib/python3.7/dist-packages (from transformers) (4.62.3)\n",
            "Requirement already satisfied: typing-extensions in /usr/local/lib/python3.7/dist-packages (from huggingface-hub>=0.0.17->transformers) (3.7.4.3)\n",
            "Requirement already satisfied: pyparsing>=2.0.2 in /usr/local/lib/python3.7/dist-packages (from packaging>=20.0->transformers) (2.4.7)\n",
            "Requirement already satisfied: zipp>=0.5 in /usr/local/lib/python3.7/dist-packages (from importlib-metadata->transformers) (3.6.0)\n",
            "Requirement already satisfied: idna<3,>=2.5 in /usr/local/lib/python3.7/dist-packages (from requests->transformers) (2.10)\n",
            "Requirement already satisfied: chardet<4,>=3.0.2 in /usr/local/lib/python3.7/dist-packages (from requests->transformers) (3.0.4)\n",
            "Requirement already satisfied: urllib3!=1.25.0,!=1.25.1,<1.26,>=1.21.1 in /usr/local/lib/python3.7/dist-packages (from requests->transformers) (1.24.3)\n",
            "Requirement already satisfied: certifi>=2017.4.17 in /usr/local/lib/python3.7/dist-packages (from requests->transformers) (2021.5.30)\n",
            "Requirement already satisfied: click in /usr/local/lib/python3.7/dist-packages (from sacremoses->transformers) (7.1.2)\n",
            "Requirement already satisfied: six in /usr/local/lib/python3.7/dist-packages (from sacremoses->transformers) (1.15.0)\n",
            "Requirement already satisfied: joblib in /usr/local/lib/python3.7/dist-packages (from sacremoses->transformers) (1.0.1)\n",
            "Installing collected packages: pyyaml, tokenizers, sacremoses, huggingface-hub, transformers\n",
            "  Attempting uninstall: pyyaml\n",
            "    Found existing installation: PyYAML 3.13\n",
            "    Uninstalling PyYAML-3.13:\n",
            "      Successfully uninstalled PyYAML-3.13\n",
            "Successfully installed huggingface-hub-0.0.19 pyyaml-6.0 sacremoses-0.0.46 tokenizers-0.10.3 transformers-4.11.3\n"
          ]
        }
      ]
    },
    {
      "cell_type": "code",
      "metadata": {
        "id": "kmkwTKzWvucu"
      },
      "source": [
        "import pandas as pd\n",
        "import numpy as np\n",
        "import re\n",
        "\n",
        "import nltk\n",
        "from nltk.corpus import stopwords "
      ],
      "execution_count": null,
      "outputs": []
    },
    {
      "cell_type": "code",
      "metadata": {
        "colab": {
          "base_uri": "https://localhost:8080/"
        },
        "id": "DzqVXc0m8AZO",
        "outputId": "97890541-2408-4e21-be27-87334dae854e"
      },
      "source": [
        "# Mounting Google Drive\n",
        "from google.colab import drive\n",
        "drive.mount('/content/drive')"
      ],
      "execution_count": null,
      "outputs": [
        {
          "output_type": "stream",
          "name": "stdout",
          "text": [
            "Mounted at /content/drive\n"
          ]
        }
      ]
    },
    {
      "cell_type": "code",
      "metadata": {
        "id": "e40xkt9D8oxC"
      },
      "source": [
        "data = pd.read_csv('/content/drive/MyDrive/Temp/labeled_data.csv')"
      ],
      "execution_count": null,
      "outputs": []
    },
    {
      "cell_type": "code",
      "metadata": {
        "colab": {
          "base_uri": "https://localhost:8080/",
          "height": 206
        },
        "id": "uXwL2GFB9GU4",
        "outputId": "cf024b5a-a083-4ff8-9bb8-2c2d2b437953"
      },
      "source": [
        "data.head()"
      ],
      "execution_count": null,
      "outputs": [
        {
          "output_type": "execute_result",
          "data": {
            "text/html": [
              "<div>\n",
              "<style scoped>\n",
              "    .dataframe tbody tr th:only-of-type {\n",
              "        vertical-align: middle;\n",
              "    }\n",
              "\n",
              "    .dataframe tbody tr th {\n",
              "        vertical-align: top;\n",
              "    }\n",
              "\n",
              "    .dataframe thead th {\n",
              "        text-align: right;\n",
              "    }\n",
              "</style>\n",
              "<table border=\"1\" class=\"dataframe\">\n",
              "  <thead>\n",
              "    <tr style=\"text-align: right;\">\n",
              "      <th></th>\n",
              "      <th>Unnamed: 0</th>\n",
              "      <th>count</th>\n",
              "      <th>hate_speech</th>\n",
              "      <th>offensive_language</th>\n",
              "      <th>neither</th>\n",
              "      <th>class</th>\n",
              "      <th>tweet</th>\n",
              "    </tr>\n",
              "  </thead>\n",
              "  <tbody>\n",
              "    <tr>\n",
              "      <th>0</th>\n",
              "      <td>0</td>\n",
              "      <td>3</td>\n",
              "      <td>0</td>\n",
              "      <td>0</td>\n",
              "      <td>3</td>\n",
              "      <td>2</td>\n",
              "      <td>!!! RT @mayasolovely: As a woman you shouldn't...</td>\n",
              "    </tr>\n",
              "    <tr>\n",
              "      <th>1</th>\n",
              "      <td>1</td>\n",
              "      <td>3</td>\n",
              "      <td>0</td>\n",
              "      <td>3</td>\n",
              "      <td>0</td>\n",
              "      <td>1</td>\n",
              "      <td>!!!!! RT @mleew17: boy dats cold...tyga dwn ba...</td>\n",
              "    </tr>\n",
              "    <tr>\n",
              "      <th>2</th>\n",
              "      <td>2</td>\n",
              "      <td>3</td>\n",
              "      <td>0</td>\n",
              "      <td>3</td>\n",
              "      <td>0</td>\n",
              "      <td>1</td>\n",
              "      <td>!!!!!!! RT @UrKindOfBrand Dawg!!!! RT @80sbaby...</td>\n",
              "    </tr>\n",
              "    <tr>\n",
              "      <th>3</th>\n",
              "      <td>3</td>\n",
              "      <td>3</td>\n",
              "      <td>0</td>\n",
              "      <td>2</td>\n",
              "      <td>1</td>\n",
              "      <td>1</td>\n",
              "      <td>!!!!!!!!! RT @C_G_Anderson: @viva_based she lo...</td>\n",
              "    </tr>\n",
              "    <tr>\n",
              "      <th>4</th>\n",
              "      <td>4</td>\n",
              "      <td>6</td>\n",
              "      <td>0</td>\n",
              "      <td>6</td>\n",
              "      <td>0</td>\n",
              "      <td>1</td>\n",
              "      <td>!!!!!!!!!!!!! RT @ShenikaRoberts: The shit you...</td>\n",
              "    </tr>\n",
              "  </tbody>\n",
              "</table>\n",
              "</div>"
            ],
            "text/plain": [
              "   Unnamed: 0  count  ...  class                                              tweet\n",
              "0           0      3  ...      2  !!! RT @mayasolovely: As a woman you shouldn't...\n",
              "1           1      3  ...      1  !!!!! RT @mleew17: boy dats cold...tyga dwn ba...\n",
              "2           2      3  ...      1  !!!!!!! RT @UrKindOfBrand Dawg!!!! RT @80sbaby...\n",
              "3           3      3  ...      1  !!!!!!!!! RT @C_G_Anderson: @viva_based she lo...\n",
              "4           4      6  ...      1  !!!!!!!!!!!!! RT @ShenikaRoberts: The shit you...\n",
              "\n",
              "[5 rows x 7 columns]"
            ]
          },
          "metadata": {},
          "execution_count": 133
        }
      ]
    },
    {
      "cell_type": "code",
      "metadata": {
        "colab": {
          "base_uri": "https://localhost:8080/"
        },
        "id": "u8-EDN059Hvj",
        "outputId": "f2393f7c-5bac-45fa-ae83-b9072efc827a"
      },
      "source": [
        "data['class'].value_counts()"
      ],
      "execution_count": null,
      "outputs": [
        {
          "output_type": "execute_result",
          "data": {
            "text/plain": [
              "1    19190\n",
              "2     4163\n",
              "0     1430\n",
              "Name: class, dtype: int64"
            ]
          },
          "metadata": {},
          "execution_count": 134
        }
      ]
    },
    {
      "cell_type": "code",
      "metadata": {
        "id": "sZidVB69p82g"
      },
      "source": [
        "data = data.drop(data[data['class'] == 1].sample(17190).index)\n",
        "data = data.drop(data[data['class'] == 2].sample(2163).index)\n",
        "# data = data.drop(data[data['class'] == 0].sample(430).index)"
      ],
      "execution_count": null,
      "outputs": []
    },
    {
      "cell_type": "code",
      "metadata": {
        "colab": {
          "base_uri": "https://localhost:8080/"
        },
        "id": "cSnCWn3zqd28",
        "outputId": "3abc6739-1a66-4681-d4b6-510e1316f1cd"
      },
      "source": [
        "data['class'].value_counts()"
      ],
      "execution_count": null,
      "outputs": [
        {
          "output_type": "execute_result",
          "data": {
            "text/plain": [
              "2    2000\n",
              "1    2000\n",
              "0    1430\n",
              "Name: class, dtype: int64"
            ]
          },
          "metadata": {},
          "execution_count": 136
        }
      ]
    },
    {
      "cell_type": "markdown",
      "metadata": {
        "id": "q2sUdNUQ-MJM"
      },
      "source": [
        "Three different classes:\n",
        "\n",
        "\n",
        "    0 - hate speech \n",
        "    1 - offensive language \n",
        "    2 - neither\n",
        "\n"
      ]
    },
    {
      "cell_type": "code",
      "metadata": {
        "colab": {
          "base_uri": "https://localhost:8080/"
        },
        "id": "KZFSW_Jh-K4w",
        "outputId": "844b506d-909e-4295-dfe2-28c6e5182e75"
      },
      "source": [
        "data.isnull().sum()"
      ],
      "execution_count": null,
      "outputs": [
        {
          "output_type": "execute_result",
          "data": {
            "text/plain": [
              "Unnamed: 0            0\n",
              "count                 0\n",
              "hate_speech           0\n",
              "offensive_language    0\n",
              "neither               0\n",
              "class                 0\n",
              "tweet                 0\n",
              "dtype: int64"
            ]
          },
          "metadata": {},
          "execution_count": 137
        }
      ]
    },
    {
      "cell_type": "code",
      "metadata": {
        "colab": {
          "base_uri": "https://localhost:8080/"
        },
        "id": "UcW4fMtc9c42",
        "outputId": "57f95620-269c-4ed6-c494-844cc2913de1"
      },
      "source": [
        "data.isna().sum()"
      ],
      "execution_count": null,
      "outputs": [
        {
          "output_type": "execute_result",
          "data": {
            "text/plain": [
              "Unnamed: 0            0\n",
              "count                 0\n",
              "hate_speech           0\n",
              "offensive_language    0\n",
              "neither               0\n",
              "class                 0\n",
              "tweet                 0\n",
              "dtype: int64"
            ]
          },
          "metadata": {},
          "execution_count": 138
        }
      ]
    },
    {
      "cell_type": "code",
      "metadata": {
        "id": "oXwgz4v2DAtA"
      },
      "source": [
        "# Dropping other columns\n",
        "data.drop(columns=['count', 'hate_speech', 'offensive_language', 'neither', 'Unnamed: 0'], inplace=True)"
      ],
      "execution_count": null,
      "outputs": []
    },
    {
      "cell_type": "markdown",
      "metadata": {
        "id": "6xnoLTKIF4Y8"
      },
      "source": [
        "# Preprocessing"
      ]
    },
    {
      "cell_type": "code",
      "metadata": {
        "colab": {
          "base_uri": "https://localhost:8080/"
        },
        "id": "uBbP88l7qtE2",
        "outputId": "db8f0f67-5353-4b70-f8a5-5187f8a350c1"
      },
      "source": [
        "# Remove Stopwords\n",
        "# from nltk.corpus import stopwords\n",
        "# import nltk\n",
        "# nltk.download('stopwords')\n",
        "# from nltk.tokenize.toktok import ToktokTokenizer\n",
        "\n",
        "# tokenizer = ToktokTokenizer()\n",
        "# stopword_list = nltk.corpus.stopwords.words('english')\n",
        "\n",
        "# def remove_stopwords(text, is_lower_case=False):\n",
        "#   tokens = tokenizer.tokenize(text)\n",
        "#   tokens = [token.strip() for token in tokens]\n",
        "#   if is_lower_case:\n",
        "#       filtered_tokens = [token for token in tokens if token not in stopword_list]\n",
        "#   else:\n",
        "#       filtered_tokens = [token for token in tokens if token.lower() not in stopword_list]\n",
        "#   filtered_text = ' '.join(filtered_tokens)    \n",
        "#   return filtered_text\n",
        "\n",
        "# df = data.copy()\n",
        "# data['tweet'] = data['tweet'].apply(remove_stopwords)"
      ],
      "execution_count": null,
      "outputs": [
        {
          "output_type": "stream",
          "name": "stdout",
          "text": [
            "[nltk_data] Downloading package stopwords to /root/nltk_data...\n",
            "[nltk_data]   Package stopwords is already up-to-date!\n"
          ]
        }
      ]
    },
    {
      "cell_type": "code",
      "metadata": {
        "colab": {
          "base_uri": "https://localhost:8080/",
          "height": 206
        },
        "id": "QYMJPSnRFo4Q",
        "outputId": "4c1f3ba5-0c1c-40f9-a884-d417f2691387"
      },
      "source": [
        "data.head()"
      ],
      "execution_count": null,
      "outputs": [
        {
          "output_type": "execute_result",
          "data": {
            "text/html": [
              "<div>\n",
              "<style scoped>\n",
              "    .dataframe tbody tr th:only-of-type {\n",
              "        vertical-align: middle;\n",
              "    }\n",
              "\n",
              "    .dataframe tbody tr th {\n",
              "        vertical-align: top;\n",
              "    }\n",
              "\n",
              "    .dataframe thead th {\n",
              "        text-align: right;\n",
              "    }\n",
              "</style>\n",
              "<table border=\"1\" class=\"dataframe\">\n",
              "  <thead>\n",
              "    <tr style=\"text-align: right;\">\n",
              "      <th></th>\n",
              "      <th>class</th>\n",
              "      <th>tweet</th>\n",
              "    </tr>\n",
              "  </thead>\n",
              "  <tbody>\n",
              "    <tr>\n",
              "      <th>0</th>\n",
              "      <td>2</td>\n",
              "      <td>!!! RT @mayasolovely: As a woman you shouldn't...</td>\n",
              "    </tr>\n",
              "    <tr>\n",
              "      <th>21</th>\n",
              "      <td>1</td>\n",
              "      <td>\" cancel that bitch like Nino \"</td>\n",
              "    </tr>\n",
              "    <tr>\n",
              "      <th>24</th>\n",
              "      <td>1</td>\n",
              "      <td>\" got ya bitch tip toeing on my hardwood floor...</td>\n",
              "    </tr>\n",
              "    <tr>\n",
              "      <th>28</th>\n",
              "      <td>1</td>\n",
              "      <td>\" i need a trippy bitch who fuck on Hennessy \"</td>\n",
              "    </tr>\n",
              "    <tr>\n",
              "      <th>33</th>\n",
              "      <td>1</td>\n",
              "      <td>\" if you're toes ain't done you pussy stinks \"</td>\n",
              "    </tr>\n",
              "  </tbody>\n",
              "</table>\n",
              "</div>"
            ],
            "text/plain": [
              "    class                                              tweet\n",
              "0       2  !!! RT @mayasolovely: As a woman you shouldn't...\n",
              "21      1                    \" cancel that bitch like Nino \"\n",
              "24      1  \" got ya bitch tip toeing on my hardwood floor...\n",
              "28      1     \" i need a trippy bitch who fuck on Hennessy \"\n",
              "33      1     \" if you're toes ain't done you pussy stinks \""
            ]
          },
          "metadata": {},
          "execution_count": 141
        }
      ]
    },
    {
      "cell_type": "code",
      "metadata": {
        "id": "vTh-HVj_f0iJ"
      },
      "source": [
        "model_checkpoint = \"distilbert-base-uncased\"\n",
        "batch_size = 16"
      ],
      "execution_count": null,
      "outputs": []
    },
    {
      "cell_type": "code",
      "metadata": {
        "id": "vV6dVB5YBDWd"
      },
      "source": [
        "labels = data['class'].to_list()\n",
        "texts = data['tweet'].to_list()"
      ],
      "execution_count": null,
      "outputs": []
    },
    {
      "cell_type": "code",
      "metadata": {
        "id": "bpysoCedEoyO"
      },
      "source": [
        "from sklearn.model_selection import train_test_split\n",
        "train_texts, test_texts, train_labels, test_labels = train_test_split(texts, labels, test_size=.2)"
      ],
      "execution_count": null,
      "outputs": []
    },
    {
      "cell_type": "code",
      "metadata": {
        "id": "aovS9y_0FQNW"
      },
      "source": [
        "from transformers import DistilBertTokenizerFast\n",
        "tokenizer = DistilBertTokenizerFast.from_pretrained('distilbert-base-uncased')\n",
        "\n",
        "# from transformers import AutoTokenizer\n",
        "# checkpoint = \"bert-base-uncased\"\n",
        "# tokenizer = AutoTokenizer.from_pretrained(checkpoint, use_fast=True)\n",
        "\n",
        "# from transformers import AutoTokenizer\n",
        "# tokenizer = AutoTokenizer.from_pretrained(\"distilbert-base-uncased\", use_fast=True)"
      ],
      "execution_count": null,
      "outputs": []
    },
    {
      "cell_type": "code",
      "metadata": {
        "id": "iKlbQUWKFl65"
      },
      "source": [
        "train_encodings = tokenizer(train_texts, truncation=True, padding=True)\n",
        "test_encodings = tokenizer(test_texts, truncation=True, padding=True)"
      ],
      "execution_count": null,
      "outputs": []
    },
    {
      "cell_type": "code",
      "metadata": {
        "id": "ePP7YX4lHdHn"
      },
      "source": [
        "## TENSORFLOW CODE\n",
        "import tensorflow as tf\n",
        "\n",
        "train_dataset = tf.data.Dataset.from_tensor_slices((\n",
        "    dict(train_encodings),\n",
        "    np.asarray(train_labels)\n",
        "))\n",
        "test_dataset = tf.data.Dataset.from_tensor_slices((\n",
        "    dict(test_encodings),\n",
        "    np.asarray(test_labels)\n",
        "))"
      ],
      "execution_count": null,
      "outputs": []
    },
    {
      "cell_type": "code",
      "metadata": {
        "colab": {
          "base_uri": "https://localhost:8080/"
        },
        "id": "dvCI2NNlNLN2",
        "outputId": "ef74c0bc-7091-490b-8f67-2b494ad66b60"
      },
      "source": [
        "## TENSORFLOW CODE\n",
        "from transformers import TFDistilBertForSequenceClassification\n",
        "model = TFDistilBertForSequenceClassification.from_pretrained('distilbert-base-uncased', num_labels = 3)\n",
        "\n",
        "# from transformers import TFAutoModelForSequenceClassification\n",
        "from tensorflow.keras.losses import SparseCategoricalCrossentropy\n",
        "\n",
        "# model = TFAutoModelForSequenceClassification.from_pretrained(checkpoint, num_labels=3)\n",
        "optimizer = tf.keras.optimizers.Adam(learning_rate=5e-5)\n",
        "\n",
        "model.compile(optimizer=optimizer, loss=SparseCategoricalCrossentropy(from_logits=True), metrics=['accuracy']) # can also use any keras loss fn\n",
        "model.fit(train_dataset.shuffle(1000).batch(16), validation_data=test_dataset.batch(16), epochs=3, batch_size=16)"
      ],
      "execution_count": null,
      "outputs": [
        {
          "output_type": "stream",
          "name": "stderr",
          "text": [
            "Some layers from the model checkpoint at distilbert-base-uncased were not used when initializing TFDistilBertForSequenceClassification: ['vocab_transform', 'activation_13', 'vocab_layer_norm', 'vocab_projector']\n",
            "- This IS expected if you are initializing TFDistilBertForSequenceClassification from the checkpoint of a model trained on another task or with another architecture (e.g. initializing a BertForSequenceClassification model from a BertForPreTraining model).\n",
            "- This IS NOT expected if you are initializing TFDistilBertForSequenceClassification from the checkpoint of a model that you expect to be exactly identical (initializing a BertForSequenceClassification model from a BertForSequenceClassification model).\n",
            "Some layers of TFDistilBertForSequenceClassification were not initialized from the model checkpoint at distilbert-base-uncased and are newly initialized: ['classifier', 'dropout_59', 'pre_classifier']\n",
            "You should probably TRAIN this model on a down-stream task to be able to use it for predictions and inference.\n"
          ]
        },
        {
          "output_type": "stream",
          "name": "stdout",
          "text": [
            "Epoch 1/3\n",
            "272/272 [==============================] - 321s 1s/step - loss: 0.5745 - accuracy: 0.7712 - val_loss: 0.4751 - val_accuracy: 0.8186\n",
            "Epoch 2/3\n",
            "272/272 [==============================] - 310s 1s/step - loss: 0.3945 - accuracy: 0.8517 - val_loss: 0.5049 - val_accuracy: 0.8122\n",
            "Epoch 3/3\n",
            "272/272 [==============================] - 310s 1s/step - loss: 0.2908 - accuracy: 0.8916 - val_loss: 0.4980 - val_accuracy: 0.8315\n"
          ]
        },
        {
          "output_type": "execute_result",
          "data": {
            "text/plain": [
              "<keras.callbacks.History at 0x7f33b2c68050>"
            ]
          },
          "metadata": {},
          "execution_count": 149
        }
      ]
    },
    {
      "cell_type": "code",
      "metadata": {
        "id": "GTSkz14JvPsh",
        "colab": {
          "base_uri": "https://localhost:8080/"
        },
        "outputId": "3881cf88-dc42-4594-91bf-76ea506156ff"
      },
      "source": [
        "model.save_pretrained(\"/content/drive/MyDrive/Temp/hatespeech_hf_model\")\n",
        "tokenizer.save_pretrained(\"/content/drive/MyDrive/Temp/hatespeech_hf_model\")"
      ],
      "execution_count": null,
      "outputs": [
        {
          "output_type": "execute_result",
          "data": {
            "text/plain": [
              "('/content/drive/MyDrive/Temp/hatespeech_hf_model/tokenizer_config.json',\n",
              " '/content/drive/MyDrive/Temp/hatespeech_hf_model/special_tokens_map.json',\n",
              " '/content/drive/MyDrive/Temp/hatespeech_hf_model/vocab.txt',\n",
              " '/content/drive/MyDrive/Temp/hatespeech_hf_model/added_tokens.json',\n",
              " '/content/drive/MyDrive/Temp/hatespeech_hf_model/tokenizer.json')"
            ]
          },
          "metadata": {},
          "execution_count": 150
        }
      ]
    },
    {
      "cell_type": "code",
      "metadata": {
        "colab": {
          "base_uri": "https://localhost:8080/"
        },
        "id": "oBH1Cq1bEdQd",
        "outputId": "d28c0ca7-f0b1-4d48-d25c-d81b9dcbea70"
      },
      "source": [
        "from transformers import TFDistilBertForSequenceClassification\n",
        "from transformers import DistilBertTokenizerFast\n",
        "import tensorflow as tf\n",
        "\n",
        "loaded_model = TFDistilBertForSequenceClassification.from_pretrained(\"/content/drive/MyDrive/Temp/hatespeech_hf_model\")\n",
        "loaded_tokenizer = DistilBertTokenizerFast.from_pretrained(\"/content/drive/MyDrive/Temp/hatespeech_hf_model\")"
      ],
      "execution_count": null,
      "outputs": [
        {
          "output_type": "stream",
          "name": "stderr",
          "text": [
            "Some layers from the model checkpoint at /content/drive/MyDrive/Temp/hatespeech_hf_model were not used when initializing TFDistilBertForSequenceClassification: ['dropout_59']\n",
            "- This IS expected if you are initializing TFDistilBertForSequenceClassification from the checkpoint of a model trained on another task or with another architecture (e.g. initializing a BertForSequenceClassification model from a BertForPreTraining model).\n",
            "- This IS NOT expected if you are initializing TFDistilBertForSequenceClassification from the checkpoint of a model that you expect to be exactly identical (initializing a BertForSequenceClassification model from a BertForSequenceClassification model).\n",
            "Some layers of TFDistilBertForSequenceClassification were not initialized from the model checkpoint at /content/drive/MyDrive/Temp/hatespeech_hf_model and are newly initialized: ['dropout_19']\n",
            "You should probably TRAIN this model on a down-stream task to be able to use it for predictions and inference.\n"
          ]
        }
      ]
    },
    {
      "cell_type": "code",
      "metadata": {
        "id": "Eumhm8XFHLCM"
      },
      "source": [
        "#test_sentence = \"With their homes in ashes, residents share harrowing tales of survival after massive wildfires kill 15\"\n",
        "test_sentence = \"All black people should not die \"\n",
        "\n",
        "predict_input = loaded_tokenizer.encode(test_sentence,\n",
        "                                 truncation=True,\n",
        "                                 padding=True,\n",
        "                                 return_tensors=\"tf\")\n",
        "tf_output = loaded_model.predict(predict_input)[0]"
      ],
      "execution_count": null,
      "outputs": []
    },
    {
      "cell_type": "code",
      "metadata": {
        "id": "KxQ1f6ThHecW"
      },
      "source": [
        "tf_prediction = tf.nn.softmax(tf_output, axis=1).numpy()[0]"
      ],
      "execution_count": null,
      "outputs": []
    },
    {
      "cell_type": "code",
      "metadata": {
        "colab": {
          "base_uri": "https://localhost:8080/"
        },
        "id": "nNXSkfidHgJB",
        "outputId": "888767b3-8910-4037-e798-688778882f09"
      },
      "source": [
        "tf_prediction"
      ],
      "execution_count": null,
      "outputs": [
        {
          "output_type": "execute_result",
          "data": {
            "text/plain": [
              "array([0.930674  , 0.06174485, 0.00758108], dtype=float32)"
            ]
          },
          "metadata": {},
          "execution_count": 13
        }
      ]
    },
    {
      "cell_type": "code",
      "metadata": {
        "colab": {
          "base_uri": "https://localhost:8080/"
        },
        "id": "vTKZMncijwgO",
        "outputId": "d9883b24-f78c-4b47-853a-d3efb979a4e9"
      },
      "source": [
        "inputs = loaded_tokenizer(\"This is the first sentence.\")\n",
        "inputs"
      ],
      "execution_count": null,
      "outputs": [
        {
          "output_type": "execute_result",
          "data": {
            "text/plain": [
              "{'input_ids': [101, 2023, 2003, 1996, 2034, 6251, 1012, 102], 'attention_mask': [1, 1, 1, 1, 1, 1, 1, 1]}"
            ]
          },
          "metadata": {},
          "execution_count": 10
        }
      ]
    },
    {
      "cell_type": "code",
      "metadata": {
        "id": "w35gHe36kDzf",
        "colab": {
          "base_uri": "https://localhost:8080/"
        },
        "outputId": "876f79b4-ae0f-4fc6-f9b3-eb3454653145"
      },
      "source": [
        "loaded_tokenizer.convert_ids_to_tokens(inputs[\"input_ids\"])"
      ],
      "execution_count": null,
      "outputs": [
        {
          "output_type": "execute_result",
          "data": {
            "text/plain": [
              "['[CLS]', 'this', 'is', 'the', 'first', 'sentence', '.', '[SEP]']"
            ]
          },
          "metadata": {},
          "execution_count": 11
        }
      ]
    },
    {
      "cell_type": "code",
      "metadata": {
        "id": "OVivLB50kDq3"
      },
      "source": [
        ""
      ],
      "execution_count": null,
      "outputs": []
    },
    {
      "cell_type": "code",
      "metadata": {
        "id": "oBu2HCAvkDkm"
      },
      "source": [
        ""
      ],
      "execution_count": null,
      "outputs": []
    },
    {
      "cell_type": "markdown",
      "metadata": {
        "id": "KDqdYKwcGDOP"
      },
      "source": [
        "# Reference:\n",
        "https://github.com/t-davidson/hate-speech-and-offensive-language"
      ]
    },
    {
      "cell_type": "markdown",
      "metadata": {
        "id": "BILGKShV8RSd"
      },
      "source": [
        ""
      ]
    },
    {
      "cell_type": "markdown",
      "metadata": {
        "id": "pSwmN08O36HP"
      },
      "source": [
        "![image.png](data:image/png;base64,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)"
      ]
    },
    {
      "cell_type": "code",
      "metadata": {
        "id": "_fuMU3LgGYH8"
      },
      "source": [
        ""
      ],
      "execution_count": null,
      "outputs": []
    }
  ]
}